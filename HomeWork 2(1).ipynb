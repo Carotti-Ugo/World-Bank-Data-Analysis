{
 "cells": [
  {
   "cell_type": "markdown",
   "metadata": {},
   "source": [
    "# Final Python Work - E201701 - Ugo Carotti"
   ]
  },
  {
   "cell_type": "markdown",
   "metadata": {},
   "source": [
    "### Part 1: Data Extraction/Transformation"
   ]
  },
  {
   "cell_type": "markdown",
   "metadata": {},
   "source": [
    "Use the command below to get the world_bank_data package:\n",
    "\n",
    "conda install -c sclare world_bank_data or pip install -c sclare world_bank_data "
   ]
  },
  {
   "cell_type": "markdown",
   "metadata": {},
   "source": [
    "Here are the packages I used to complete the coursework."
   ]
  },
  {
   "cell_type": "code",
   "execution_count": 1,
   "metadata": {},
   "outputs": [],
   "source": [
    "import pandas as pd\n",
    "import world_bank_data as wb\n",
    "import numpy as np\n",
    "import matplotlib.pyplot as plt"
   ]
  },
  {
   "cell_type": "markdown",
   "metadata": {},
   "source": [
    "I used the keyword search in order to identify the datasets we are interested in."
   ]
  },
  {
   "cell_type": "code",
   "execution_count": 2,
   "metadata": {},
   "outputs": [
    {
     "data": {
      "text/html": [
       "<div>\n",
       "<style scoped>\n",
       "    .dataframe tbody tr th:only-of-type {\n",
       "        vertical-align: middle;\n",
       "    }\n",
       "\n",
       "    .dataframe tbody tr th {\n",
       "        vertical-align: top;\n",
       "    }\n",
       "\n",
       "    .dataframe thead th {\n",
       "        text-align: right;\n",
       "    }\n",
       "</style>\n",
       "<table border=\"1\" class=\"dataframe\">\n",
       "  <thead>\n",
       "    <tr style=\"text-align: right;\">\n",
       "      <th></th>\n",
       "      <th>name</th>\n",
       "      <th>unit</th>\n",
       "      <th>source</th>\n",
       "      <th>sourceNote</th>\n",
       "      <th>sourceOrganization</th>\n",
       "      <th>topics</th>\n",
       "    </tr>\n",
       "    <tr>\n",
       "      <th>id</th>\n",
       "      <th></th>\n",
       "      <th></th>\n",
       "      <th></th>\n",
       "      <th></th>\n",
       "      <th></th>\n",
       "      <th></th>\n",
       "    </tr>\n",
       "  </thead>\n",
       "  <tbody>\n",
       "    <tr>\n",
       "      <th>SP.DYN.LE00.FE.IN</th>\n",
       "      <td>Life expectancy at birth, female (years)</td>\n",
       "      <td></td>\n",
       "      <td>World Development Indicators</td>\n",
       "      <td>Life expectancy at birth indicates the number ...</td>\n",
       "      <td>(1) United Nations Population Division. World ...</td>\n",
       "      <td>Health ,Gender,Social Development</td>\n",
       "    </tr>\n",
       "    <tr>\n",
       "      <th>SP.DYN.LE00.IN</th>\n",
       "      <td>Life expectancy at birth, total (years)</td>\n",
       "      <td></td>\n",
       "      <td>World Development Indicators</td>\n",
       "      <td>Life expectancy at birth indicates the number ...</td>\n",
       "      <td>(1) United Nations Population Division. World ...</td>\n",
       "      <td>Health</td>\n",
       "    </tr>\n",
       "    <tr>\n",
       "      <th>SP.DYN.LE00.MA.IN</th>\n",
       "      <td>Life expectancy at birth, male (years)</td>\n",
       "      <td></td>\n",
       "      <td>World Development Indicators</td>\n",
       "      <td>Life expectancy at birth indicates the number ...</td>\n",
       "      <td>(1) United Nations Population Division. World ...</td>\n",
       "      <td>Health ,Gender,Social Development</td>\n",
       "    </tr>\n",
       "    <tr>\n",
       "      <th>SP.DYN.LIFE.MF</th>\n",
       "      <td>Life Expectancy at Birth(years)</td>\n",
       "      <td></td>\n",
       "      <td>WDI Database Archives</td>\n",
       "      <td></td>\n",
       "      <td></td>\n",
       "      <td></td>\n",
       "    </tr>\n",
       "    <tr>\n",
       "      <th>UNDP.HDI.XD</th>\n",
       "      <td>Human development index (HDI)</td>\n",
       "      <td></td>\n",
       "      <td>Africa Development Indicators</td>\n",
       "      <td>The Human Development Index (HDI) is a summary...</td>\n",
       "      <td>http://hdr.undp.org/en/statistics/data/</td>\n",
       "      <td></td>\n",
       "    </tr>\n",
       "  </tbody>\n",
       "</table>\n",
       "</div>"
      ],
      "text/plain": [
       "                                                       name unit  \\\n",
       "id                                                                 \n",
       "SP.DYN.LE00.FE.IN  Life expectancy at birth, female (years)        \n",
       "SP.DYN.LE00.IN      Life expectancy at birth, total (years)        \n",
       "SP.DYN.LE00.MA.IN    Life expectancy at birth, male (years)        \n",
       "SP.DYN.LIFE.MF              Life Expectancy at Birth(years)        \n",
       "UNDP.HDI.XD                   Human development index (HDI)        \n",
       "\n",
       "                                          source  \\\n",
       "id                                                 \n",
       "SP.DYN.LE00.FE.IN   World Development Indicators   \n",
       "SP.DYN.LE00.IN      World Development Indicators   \n",
       "SP.DYN.LE00.MA.IN   World Development Indicators   \n",
       "SP.DYN.LIFE.MF             WDI Database Archives   \n",
       "UNDP.HDI.XD        Africa Development Indicators   \n",
       "\n",
       "                                                          sourceNote  \\\n",
       "id                                                                     \n",
       "SP.DYN.LE00.FE.IN  Life expectancy at birth indicates the number ...   \n",
       "SP.DYN.LE00.IN     Life expectancy at birth indicates the number ...   \n",
       "SP.DYN.LE00.MA.IN  Life expectancy at birth indicates the number ...   \n",
       "SP.DYN.LIFE.MF                                                         \n",
       "UNDP.HDI.XD        The Human Development Index (HDI) is a summary...   \n",
       "\n",
       "                                                  sourceOrganization  \\\n",
       "id                                                                     \n",
       "SP.DYN.LE00.FE.IN  (1) United Nations Population Division. World ...   \n",
       "SP.DYN.LE00.IN     (1) United Nations Population Division. World ...   \n",
       "SP.DYN.LE00.MA.IN  (1) United Nations Population Division. World ...   \n",
       "SP.DYN.LIFE.MF                                                         \n",
       "UNDP.HDI.XD                  http://hdr.undp.org/en/statistics/data/   \n",
       "\n",
       "                                               topics  \n",
       "id                                                     \n",
       "SP.DYN.LE00.FE.IN  Health ,Gender,Social Development   \n",
       "SP.DYN.LE00.IN                                Health   \n",
       "SP.DYN.LE00.MA.IN  Health ,Gender,Social Development   \n",
       "SP.DYN.LIFE.MF                                         \n",
       "UNDP.HDI.XD                                            "
      ]
     },
     "execution_count": 2,
     "metadata": {},
     "output_type": "execute_result"
    }
   ],
   "source": [
    "wb.search_indicators('life expectancy at birth')"
   ]
  },
  {
   "cell_type": "markdown",
   "metadata": {},
   "source": [
    "Once identified, I extract each of them."
   ]
  },
  {
   "cell_type": "code",
   "execution_count": 3,
   "metadata": {},
   "outputs": [
    {
     "data": {
      "text/html": [
       "<div>\n",
       "<style scoped>\n",
       "    .dataframe tbody tr th:only-of-type {\n",
       "        vertical-align: middle;\n",
       "    }\n",
       "\n",
       "    .dataframe tbody tr th {\n",
       "        vertical-align: top;\n",
       "    }\n",
       "\n",
       "    .dataframe thead th {\n",
       "        text-align: right;\n",
       "    }\n",
       "</style>\n",
       "<table border=\"1\" class=\"dataframe\">\n",
       "  <thead>\n",
       "    <tr style=\"text-align: right;\">\n",
       "      <th></th>\n",
       "      <th></th>\n",
       "      <th></th>\n",
       "      <th>SP.DYN.LE00.IN</th>\n",
       "    </tr>\n",
       "    <tr>\n",
       "      <th>Country</th>\n",
       "      <th>Series</th>\n",
       "      <th>Year</th>\n",
       "      <th></th>\n",
       "    </tr>\n",
       "  </thead>\n",
       "  <tbody>\n",
       "    <tr>\n",
       "      <th rowspan=\"5\" valign=\"top\">Arab World</th>\n",
       "      <th rowspan=\"5\" valign=\"top\">Life expectancy at birth, total (years)</th>\n",
       "      <th>2000</th>\n",
       "      <td>67.800591</td>\n",
       "    </tr>\n",
       "    <tr>\n",
       "      <th>2001</th>\n",
       "      <td>68.072519</td>\n",
       "    </tr>\n",
       "    <tr>\n",
       "      <th>2002</th>\n",
       "      <td>68.340246</td>\n",
       "    </tr>\n",
       "    <tr>\n",
       "      <th>2003</th>\n",
       "      <td>68.610505</td>\n",
       "    </tr>\n",
       "    <tr>\n",
       "      <th>2004</th>\n",
       "      <td>68.886188</td>\n",
       "    </tr>\n",
       "    <tr>\n",
       "      <th>...</th>\n",
       "      <th>...</th>\n",
       "      <th>...</th>\n",
       "      <td>...</td>\n",
       "    </tr>\n",
       "    <tr>\n",
       "      <th rowspan=\"5\" valign=\"top\">Zimbabwe</th>\n",
       "      <th rowspan=\"5\" valign=\"top\">Life expectancy at birth, total (years)</th>\n",
       "      <th>2014</th>\n",
       "      <td>58.410000</td>\n",
       "    </tr>\n",
       "    <tr>\n",
       "      <th>2015</th>\n",
       "      <td>59.534000</td>\n",
       "    </tr>\n",
       "    <tr>\n",
       "      <th>2016</th>\n",
       "      <td>60.294000</td>\n",
       "    </tr>\n",
       "    <tr>\n",
       "      <th>2017</th>\n",
       "      <td>60.812000</td>\n",
       "    </tr>\n",
       "    <tr>\n",
       "      <th>2018</th>\n",
       "      <td>61.195000</td>\n",
       "    </tr>\n",
       "  </tbody>\n",
       "</table>\n",
       "<p>5016 rows × 1 columns</p>\n",
       "</div>"
      ],
      "text/plain": [
       "                                                         SP.DYN.LE00.IN\n",
       "Country    Series                                  Year                \n",
       "Arab World Life expectancy at birth, total (years) 2000       67.800591\n",
       "                                                   2001       68.072519\n",
       "                                                   2002       68.340246\n",
       "                                                   2003       68.610505\n",
       "                                                   2004       68.886188\n",
       "...                                                                 ...\n",
       "Zimbabwe   Life expectancy at birth, total (years) 2014       58.410000\n",
       "                                                   2015       59.534000\n",
       "                                                   2016       60.294000\n",
       "                                                   2017       60.812000\n",
       "                                                   2018       61.195000\n",
       "\n",
       "[5016 rows x 1 columns]"
      ]
     },
     "execution_count": 3,
     "metadata": {},
     "output_type": "execute_result"
    }
   ],
   "source": [
    "pd.set_option(\"display.max_rows\", 10, \"display.max_columns\", 10) \n",
    "set1 = pd.DataFrame(wb.get_series('SP.DYN.LE00.IN', mrv=19))\n",
    "set1"
   ]
  },
  {
   "cell_type": "code",
   "execution_count": 4,
   "metadata": {},
   "outputs": [],
   "source": [
    "set2 = pd.DataFrame(wb.get_series('SP.DYN.LE00.FE.IN', mrv=19))"
   ]
  },
  {
   "cell_type": "code",
   "execution_count": 5,
   "metadata": {},
   "outputs": [],
   "source": [
    "set3 = pd.DataFrame(wb.get_series('SP.DYN.LE00.MA.IN', mrv=19))"
   ]
  },
  {
   "cell_type": "markdown",
   "metadata": {},
   "source": [
    "I start merging them on Country and Year."
   ]
  },
  {
   "cell_type": "code",
   "execution_count": 6,
   "metadata": {},
   "outputs": [
    {
     "data": {
      "text/html": [
       "<div>\n",
       "<style scoped>\n",
       "    .dataframe tbody tr th:only-of-type {\n",
       "        vertical-align: middle;\n",
       "    }\n",
       "\n",
       "    .dataframe tbody tr th {\n",
       "        vertical-align: top;\n",
       "    }\n",
       "\n",
       "    .dataframe thead th {\n",
       "        text-align: right;\n",
       "    }\n",
       "</style>\n",
       "<table border=\"1\" class=\"dataframe\">\n",
       "  <thead>\n",
       "    <tr style=\"text-align: right;\">\n",
       "      <th></th>\n",
       "      <th></th>\n",
       "      <th>SP.DYN.LE00.IN</th>\n",
       "      <th>SP.DYN.LE00.FE.IN</th>\n",
       "    </tr>\n",
       "    <tr>\n",
       "      <th>Country</th>\n",
       "      <th>Year</th>\n",
       "      <th></th>\n",
       "      <th></th>\n",
       "    </tr>\n",
       "  </thead>\n",
       "  <tbody>\n",
       "    <tr>\n",
       "      <th rowspan=\"5\" valign=\"top\">Arab World</th>\n",
       "      <th>2000</th>\n",
       "      <td>67.800591</td>\n",
       "      <td>69.699913</td>\n",
       "    </tr>\n",
       "    <tr>\n",
       "      <th>2001</th>\n",
       "      <td>68.072519</td>\n",
       "      <td>69.959985</td>\n",
       "    </tr>\n",
       "    <tr>\n",
       "      <th>2002</th>\n",
       "      <td>68.340246</td>\n",
       "      <td>70.218646</td>\n",
       "    </tr>\n",
       "    <tr>\n",
       "      <th>2003</th>\n",
       "      <td>68.610505</td>\n",
       "      <td>70.483623</td>\n",
       "    </tr>\n",
       "    <tr>\n",
       "      <th>2004</th>\n",
       "      <td>68.886188</td>\n",
       "      <td>70.758013</td>\n",
       "    </tr>\n",
       "    <tr>\n",
       "      <th>...</th>\n",
       "      <th>...</th>\n",
       "      <td>...</td>\n",
       "      <td>...</td>\n",
       "    </tr>\n",
       "    <tr>\n",
       "      <th rowspan=\"5\" valign=\"top\">Zimbabwe</th>\n",
       "      <th>2014</th>\n",
       "      <td>58.410000</td>\n",
       "      <td>59.892000</td>\n",
       "    </tr>\n",
       "    <tr>\n",
       "      <th>2015</th>\n",
       "      <td>59.534000</td>\n",
       "      <td>60.984000</td>\n",
       "    </tr>\n",
       "    <tr>\n",
       "      <th>2016</th>\n",
       "      <td>60.294000</td>\n",
       "      <td>61.719000</td>\n",
       "    </tr>\n",
       "    <tr>\n",
       "      <th>2017</th>\n",
       "      <td>60.812000</td>\n",
       "      <td>62.220000</td>\n",
       "    </tr>\n",
       "    <tr>\n",
       "      <th>2018</th>\n",
       "      <td>61.195000</td>\n",
       "      <td>62.598000</td>\n",
       "    </tr>\n",
       "  </tbody>\n",
       "</table>\n",
       "<p>5016 rows × 2 columns</p>\n",
       "</div>"
      ],
      "text/plain": [
       "                 SP.DYN.LE00.IN  SP.DYN.LE00.FE.IN\n",
       "Country    Year                                   \n",
       "Arab World 2000       67.800591          69.699913\n",
       "           2001       68.072519          69.959985\n",
       "           2002       68.340246          70.218646\n",
       "           2003       68.610505          70.483623\n",
       "           2004       68.886188          70.758013\n",
       "...                         ...                ...\n",
       "Zimbabwe   2014       58.410000          59.892000\n",
       "           2015       59.534000          60.984000\n",
       "           2016       60.294000          61.719000\n",
       "           2017       60.812000          62.220000\n",
       "           2018       61.195000          62.598000\n",
       "\n",
       "[5016 rows x 2 columns]"
      ]
     },
     "execution_count": 6,
     "metadata": {},
     "output_type": "execute_result"
    }
   ],
   "source": [
    "set_inter = set1.merge(set2, on=['Country','Year'])\n",
    "set_inter"
   ]
  },
  {
   "cell_type": "code",
   "execution_count": 7,
   "metadata": {},
   "outputs": [
    {
     "name": "stdout",
     "output_type": "stream",
     "text": [
      "<class 'pandas.core.frame.DataFrame'>\n",
      "MultiIndex: 5016 entries, ('Arab World', '2000') to ('Zimbabwe', '2018')\n",
      "Data columns (total 3 columns):\n",
      " #   Column             Non-Null Count  Dtype  \n",
      "---  ------             --------------  -----  \n",
      " 0   SP.DYN.LE00.IN     4679 non-null   float64\n",
      " 1   SP.DYN.LE00.FE.IN  4679 non-null   float64\n",
      " 2   SP.DYN.LE00.MA.IN  4679 non-null   float64\n",
      "dtypes: float64(3)\n",
      "memory usage: 145.2+ KB\n"
     ]
    }
   ],
   "source": [
    "dataset = set_inter.merge(set3,on=['Country','Year'])\n",
    "dataset.info()"
   ]
  },
  {
   "cell_type": "markdown",
   "metadata": {},
   "source": [
    "Once I have my dataset I rename the columns to make it clearer."
   ]
  },
  {
   "cell_type": "code",
   "execution_count": 8,
   "metadata": {
    "scrolled": true
   },
   "outputs": [
    {
     "data": {
      "text/html": [
       "<div>\n",
       "<style scoped>\n",
       "    .dataframe tbody tr th:only-of-type {\n",
       "        vertical-align: middle;\n",
       "    }\n",
       "\n",
       "    .dataframe tbody tr th {\n",
       "        vertical-align: top;\n",
       "    }\n",
       "\n",
       "    .dataframe thead th {\n",
       "        text-align: right;\n",
       "    }\n",
       "</style>\n",
       "<table border=\"1\" class=\"dataframe\">\n",
       "  <thead>\n",
       "    <tr style=\"text-align: right;\">\n",
       "      <th></th>\n",
       "      <th></th>\n",
       "      <th>Combined_LE</th>\n",
       "      <th>Female_LE</th>\n",
       "      <th>Male_LE</th>\n",
       "    </tr>\n",
       "    <tr>\n",
       "      <th>Country</th>\n",
       "      <th>Year</th>\n",
       "      <th></th>\n",
       "      <th></th>\n",
       "      <th></th>\n",
       "    </tr>\n",
       "  </thead>\n",
       "  <tbody>\n",
       "    <tr>\n",
       "      <th rowspan=\"5\" valign=\"top\">Arab World</th>\n",
       "      <th>2000</th>\n",
       "      <td>67.800591</td>\n",
       "      <td>69.699913</td>\n",
       "      <td>66.026259</td>\n",
       "    </tr>\n",
       "    <tr>\n",
       "      <th>2001</th>\n",
       "      <td>68.072519</td>\n",
       "      <td>69.959985</td>\n",
       "      <td>66.308686</td>\n",
       "    </tr>\n",
       "    <tr>\n",
       "      <th>2002</th>\n",
       "      <td>68.340246</td>\n",
       "      <td>70.218646</td>\n",
       "      <td>66.585351</td>\n",
       "    </tr>\n",
       "    <tr>\n",
       "      <th>2003</th>\n",
       "      <td>68.610505</td>\n",
       "      <td>70.483623</td>\n",
       "      <td>66.862754</td>\n",
       "    </tr>\n",
       "    <tr>\n",
       "      <th>2004</th>\n",
       "      <td>68.886188</td>\n",
       "      <td>70.758013</td>\n",
       "      <td>67.144215</td>\n",
       "    </tr>\n",
       "    <tr>\n",
       "      <th>...</th>\n",
       "      <th>...</th>\n",
       "      <td>...</td>\n",
       "      <td>...</td>\n",
       "      <td>...</td>\n",
       "    </tr>\n",
       "    <tr>\n",
       "      <th rowspan=\"5\" valign=\"top\">Zimbabwe</th>\n",
       "      <th>2014</th>\n",
       "      <td>58.410000</td>\n",
       "      <td>59.892000</td>\n",
       "      <td>56.632000</td>\n",
       "    </tr>\n",
       "    <tr>\n",
       "      <th>2015</th>\n",
       "      <td>59.534000</td>\n",
       "      <td>60.984000</td>\n",
       "      <td>57.778000</td>\n",
       "    </tr>\n",
       "    <tr>\n",
       "      <th>2016</th>\n",
       "      <td>60.294000</td>\n",
       "      <td>61.719000</td>\n",
       "      <td>58.565000</td>\n",
       "    </tr>\n",
       "    <tr>\n",
       "      <th>2017</th>\n",
       "      <td>60.812000</td>\n",
       "      <td>62.220000</td>\n",
       "      <td>59.105000</td>\n",
       "    </tr>\n",
       "    <tr>\n",
       "      <th>2018</th>\n",
       "      <td>61.195000</td>\n",
       "      <td>62.598000</td>\n",
       "      <td>59.501000</td>\n",
       "    </tr>\n",
       "  </tbody>\n",
       "</table>\n",
       "<p>5016 rows × 3 columns</p>\n",
       "</div>"
      ],
      "text/plain": [
       "                 Combined_LE  Female_LE    Male_LE\n",
       "Country    Year                                   \n",
       "Arab World 2000    67.800591  69.699913  66.026259\n",
       "           2001    68.072519  69.959985  66.308686\n",
       "           2002    68.340246  70.218646  66.585351\n",
       "           2003    68.610505  70.483623  66.862754\n",
       "           2004    68.886188  70.758013  67.144215\n",
       "...                      ...        ...        ...\n",
       "Zimbabwe   2014    58.410000  59.892000  56.632000\n",
       "           2015    59.534000  60.984000  57.778000\n",
       "           2016    60.294000  61.719000  58.565000\n",
       "           2017    60.812000  62.220000  59.105000\n",
       "           2018    61.195000  62.598000  59.501000\n",
       "\n",
       "[5016 rows x 3 columns]"
      ]
     },
     "execution_count": 8,
     "metadata": {},
     "output_type": "execute_result"
    }
   ],
   "source": [
    "dataset = dataset.rename(columns={'SP.DYN.LE00.IN':'Combined_LE', 'SP.DYN.LE00.FE.IN':'Female_LE', 'SP.DYN.LE00.MA.IN':'Male_LE'})\n",
    "dataset"
   ]
  },
  {
   "cell_type": "markdown",
   "metadata": {},
   "source": [
    "I get rid of the incomplete data by running a loop over the multiIndex, checking for each country the number of null values. I divide the count by 3 as the values alwayscome by three. There are 19 years (2000 to 2018), so if I have more than 9 for the missing count, I will have less than 10 values per columns. I simply drop the row of countries without enough data."
   ]
  },
  {
   "cell_type": "code",
   "execution_count": 9,
   "metadata": {},
   "outputs": [
    {
     "name": "stdout",
     "output_type": "stream",
     "text": [
      "American Samoa  Not enough values\n",
      "Andorra  Not enough values\n",
      "British Virgin Islands  Not enough values\n",
      "Cayman Islands  Not enough values\n",
      "Dominica  Not enough values\n",
      "Gibraltar  Not enough values\n",
      "Isle of Man  Not enough values\n",
      "Marshall Islands  Not enough values\n",
      "Monaco  Not enough values\n"
     ]
    },
    {
     "name": "stderr",
     "output_type": "stream",
     "text": [
      "C:\\Users\\carot\\anaconda3\\envs\\Hwork2\\lib\\site-packages\\pandas\\core\\generic.py:3887: PerformanceWarning: dropping on a non-lexsorted multi-index without a level parameter may impact performance.\n",
      "  obj = obj._drop_axis(labels, axis, level=level, errors=errors)\n"
     ]
    },
    {
     "name": "stdout",
     "output_type": "stream",
     "text": [
      "Nauru  Not enough values\n",
      "Northern Mariana Islands  Not enough values\n",
      "Not classified  Not enough values\n",
      "Palau  Not enough values\n",
      "San Marino  Not enough values\n",
      "Sint Maarten (Dutch part)  Not enough values\n",
      "St. Kitts and Nevis  Not enough values\n",
      "Turks and Caicos Islands  Not enough values\n",
      "Tuvalu  Not enough values\n"
     ]
    }
   ],
   "source": [
    "for country, year in dataset.groupby(level=0): \n",
    "    count = dataset.loc[country].isnull().sum().sum()\n",
    "    count = count/3\n",
    "    if count > 9:\n",
    "        print(country,' Not enough values')\n",
    "        dataset = dataset.drop(country)"
   ]
  },
  {
   "cell_type": "markdown",
   "metadata": {},
   "source": [
    "I check the look of my dataset before continuing any further."
   ]
  },
  {
   "cell_type": "code",
   "execution_count": 10,
   "metadata": {},
   "outputs": [
    {
     "name": "stdout",
     "output_type": "stream",
     "text": [
      "<class 'pandas.core.frame.DataFrame'>\n",
      "MultiIndex: 4674 entries, ('Arab World', '2000') to ('Zimbabwe', '2018')\n",
      "Data columns (total 3 columns):\n",
      " #   Column       Non-Null Count  Dtype  \n",
      "---  ------       --------------  -----  \n",
      " 0   Combined_LE  4664 non-null   float64\n",
      " 1   Female_LE    4664 non-null   float64\n",
      " 2   Male_LE      4664 non-null   float64\n",
      "dtypes: float64(3)\n",
      "memory usage: 136.2+ KB\n"
     ]
    }
   ],
   "source": [
    "dataset.info()"
   ]
  },
  {
   "cell_type": "markdown",
   "metadata": {},
   "source": [
    "I save my dataframe as a csv file, on my desk. This is to be changed, of course, unless using my computer."
   ]
  },
  {
   "cell_type": "code",
   "execution_count": 11,
   "metadata": {},
   "outputs": [],
   "source": [
    "dataset.to_csv(r'C:\\Users\\carot\\OneDrive\\Bureau\\ds.csv')"
   ]
  },
  {
   "cell_type": "markdown",
   "metadata": {},
   "source": [
    "### Part 2: Test Questions"
   ]
  },
  {
   "cell_type": "markdown",
   "metadata": {},
   "source": [
    "#### Q1: How many countries/regions are in the dataset?"
   ]
  },
  {
   "cell_type": "markdown",
   "metadata": {},
   "source": [
    "I can obtain this information by counting the number of countries in my index."
   ]
  },
  {
   "cell_type": "code",
   "execution_count": 12,
   "metadata": {},
   "outputs": [
    {
     "name": "stdout",
     "output_type": "stream",
     "text": [
      "There are 246 countries or regions in the dataset.\n"
     ]
    }
   ],
   "source": [
    "nb_countries_or_regions = len(dataset.groupby(level=0))\n",
    "print('There are',nb_countries_or_regions,'countries or regions in the dataset.')"
   ]
  },
  {
   "cell_type": "markdown",
   "metadata": {},
   "source": [
    "#### Q2: Which country has the highest total life expectancy in 2018?"
   ]
  },
  {
   "cell_type": "markdown",
   "metadata": {},
   "source": [
    "By only selecting the year 2018 and the appropriate column, I then ask for the maximum value in the column Combined_LE and ask for thhe full row, providing me with all the information needed."
   ]
  },
  {
   "cell_type": "code",
   "execution_count": 13,
   "metadata": {},
   "outputs": [
    {
     "name": "stdout",
     "output_type": "stream",
     "text": [
      "                           Combined_LE\n",
      "Country              Year             \n",
      "Hong Kong SAR, China 2018    84.934146\n"
     ]
    }
   ],
   "source": [
    "data2018 = dataset.xs('2018', level=1, drop_level=False)\n",
    "data2018 = data2018.drop(['Female_LE','Male_LE'],axis=1)\n",
    "print(data2018.iloc[[data2018['Combined_LE'].argmax()]])"
   ]
  },
  {
   "cell_type": "markdown",
   "metadata": {},
   "source": [
    "#### Q3: Which has the lowest?"
   ]
  },
  {
   "cell_type": "markdown",
   "metadata": {},
   "source": [
    "Follow the same steps from Q2, but ask forr the minimum value."
   ]
  },
  {
   "cell_type": "code",
   "execution_count": 14,
   "metadata": {},
   "outputs": [
    {
     "name": "stdout",
     "output_type": "stream",
     "text": [
      "                               Combined_LE\n",
      "Country                  Year             \n",
      "Central African Republic 2018       52.805\n"
     ]
    }
   ],
   "source": [
    "data2018 = dataset.xs('2018', level=1, drop_level=False)\n",
    "data2018 = data2018.drop(['Female_LE','Male_LE'],axis=1)\n",
    "print(data2018.iloc[[data2018['Combined_LE'].argmin()]])"
   ]
  },
  {
   "cell_type": "markdown",
   "metadata": {},
   "source": [
    "#### Q4: Which country has the greatest absolute difference in male and female life expectancy, and what is the difference, for the latest data point?"
   ]
  },
  {
   "cell_type": "markdown",
   "metadata": {},
   "source": [
    "First, create the appropriate dataset by gathering the latest data provided for each country. One country has no data for 2018 and 2017, so it is necessary to implement a system that checks for the data's latest year instead of simply taking 2018 rows.\n",
    "\n",
    "The abs difference is calculated as soon as the year is identified.\n",
    "\n",
    "Print the new datset to check intermediary result."
   ]
  },
  {
   "cell_type": "code",
   "execution_count": 15,
   "metadata": {},
   "outputs": [
    {
     "data": {
      "text/html": [
       "<div>\n",
       "<style scoped>\n",
       "    .dataframe tbody tr th:only-of-type {\n",
       "        vertical-align: middle;\n",
       "    }\n",
       "\n",
       "    .dataframe tbody tr th {\n",
       "        vertical-align: top;\n",
       "    }\n",
       "\n",
       "    .dataframe thead th {\n",
       "        text-align: right;\n",
       "    }\n",
       "</style>\n",
       "<table border=\"1\" class=\"dataframe\">\n",
       "  <thead>\n",
       "    <tr style=\"text-align: right;\">\n",
       "      <th></th>\n",
       "      <th>Country</th>\n",
       "      <th>abs_Diff_M_F</th>\n",
       "    </tr>\n",
       "  </thead>\n",
       "  <tbody>\n",
       "    <tr>\n",
       "      <th>0</th>\n",
       "      <td>Afghanistan</td>\n",
       "      <td>2.97900</td>\n",
       "    </tr>\n",
       "    <tr>\n",
       "      <th>1</th>\n",
       "      <td>Albania</td>\n",
       "      <td>3.35100</td>\n",
       "    </tr>\n",
       "    <tr>\n",
       "      <th>2</th>\n",
       "      <td>Algeria</td>\n",
       "      <td>2.44400</td>\n",
       "    </tr>\n",
       "    <tr>\n",
       "      <th>3</th>\n",
       "      <td>Angola</td>\n",
       "      <td>5.60200</td>\n",
       "    </tr>\n",
       "    <tr>\n",
       "      <th>4</th>\n",
       "      <td>Antigua and Barbuda</td>\n",
       "      <td>2.26200</td>\n",
       "    </tr>\n",
       "    <tr>\n",
       "      <th>...</th>\n",
       "      <td>...</td>\n",
       "      <td>...</td>\n",
       "    </tr>\n",
       "    <tr>\n",
       "      <th>241</th>\n",
       "      <td>West Bank and Gaza</td>\n",
       "      <td>3.33200</td>\n",
       "    </tr>\n",
       "    <tr>\n",
       "      <th>242</th>\n",
       "      <td>World</td>\n",
       "      <td>4.47307</td>\n",
       "    </tr>\n",
       "    <tr>\n",
       "      <th>243</th>\n",
       "      <td>Yemen, Rep.</td>\n",
       "      <td>3.37700</td>\n",
       "    </tr>\n",
       "    <tr>\n",
       "      <th>244</th>\n",
       "      <td>Zambia</td>\n",
       "      <td>5.91400</td>\n",
       "    </tr>\n",
       "    <tr>\n",
       "      <th>245</th>\n",
       "      <td>Zimbabwe</td>\n",
       "      <td>3.09700</td>\n",
       "    </tr>\n",
       "  </tbody>\n",
       "</table>\n",
       "<p>246 rows × 2 columns</p>\n",
       "</div>"
      ],
      "text/plain": [
       "                 Country  abs_Diff_M_F\n",
       "0            Afghanistan       2.97900\n",
       "1                Albania       3.35100\n",
       "2                Algeria       2.44400\n",
       "3                 Angola       5.60200\n",
       "4    Antigua and Barbuda       2.26200\n",
       "..                   ...           ...\n",
       "241   West Bank and Gaza       3.33200\n",
       "242                World       4.47307\n",
       "243          Yemen, Rep.       3.37700\n",
       "244               Zambia       5.91400\n",
       "245             Zimbabwe       3.09700\n",
       "\n",
       "[246 rows x 2 columns]"
      ]
     },
     "execution_count": 15,
     "metadata": {},
     "output_type": "execute_result"
    }
   ],
   "source": [
    "M_F_diff = dataset.drop(['Combined_LE'],axis=1)\n",
    "abs_dif = []\n",
    "for country, year in M_F_diff.groupby(level=0):\n",
    "    yr = 2018\n",
    "    while True:\n",
    "        if np.isnan(M_F_diff.loc[(country,str(yr)), 'Female_LE']) and np.isnan(M_F_diff.loc[(country,str(yr)), 'Male_LE']):\n",
    "            yr -= 1\n",
    "        else:\n",
    "            dif = abs(M_F_diff.loc[(country,str(yr)), 'Female_LE'] - M_F_diff.loc[(country,str(yr)), 'Male_LE'])\n",
    "            abs_dif.append([country,dif])\n",
    "            break\n",
    "abs_dif = pd.DataFrame(abs_dif)\n",
    "M_F_diff = abs_dif.rename(columns={0:'Country',1:'abs_Diff_M_F'})\n",
    "\n",
    "M_F_diff"
   ]
  },
  {
   "cell_type": "markdown",
   "metadata": {},
   "source": [
    "Simply look for thhe maximum in the column abs_Diff_M_F and ask for the full row to be returned."
   ]
  },
  {
   "cell_type": "code",
   "execution_count": 16,
   "metadata": {},
   "outputs": [
    {
     "name": "stdout",
     "output_type": "stream",
     "text": [
      "                  Country  abs_Diff_M_F\n",
      "218  Syrian Arab Republic        11.185\n"
     ]
    }
   ],
   "source": [
    "print(M_F_diff.iloc[[M_F_diff['abs_Diff_M_F'].argmax()]])"
   ]
  },
  {
   "cell_type": "markdown",
   "metadata": {},
   "source": [
    "#### Q5: Which 5 countries have shown the greatest % increase in total life expectancy, between the earliest and latest data points, and what was the increase for each?"
   ]
  },
  {
   "cell_type": "markdown",
   "metadata": {},
   "source": [
    "This question requires to check for the earliest and latest data available per country. Therefore, I used the technique implemented in Q4. If the Life Expectancy is not increasing from the earliest to the latest year, then the data is ignored. Once the increase is calculated and the dataframe created, I sort the dataset from highest value to lowest and only display the 5 highest, like asked."
   ]
  },
  {
   "cell_type": "code",
   "execution_count": 23,
   "metadata": {},
   "outputs": [
    {
     "data": {
      "text/html": [
       "<div>\n",
       "<style scoped>\n",
       "    .dataframe tbody tr th:only-of-type {\n",
       "        vertical-align: middle;\n",
       "    }\n",
       "\n",
       "    .dataframe tbody tr th {\n",
       "        vertical-align: top;\n",
       "    }\n",
       "\n",
       "    .dataframe thead th {\n",
       "        text-align: right;\n",
       "    }\n",
       "</style>\n",
       "<table border=\"1\" class=\"dataframe\">\n",
       "  <thead>\n",
       "    <tr style=\"text-align: right;\">\n",
       "      <th></th>\n",
       "      <th>Country</th>\n",
       "      <th>LE_increase_in_%</th>\n",
       "    </tr>\n",
       "  </thead>\n",
       "  <tbody>\n",
       "    <tr>\n",
       "      <th>242</th>\n",
       "      <td>Zambia</td>\n",
       "      <td>44.340909</td>\n",
       "    </tr>\n",
       "    <tr>\n",
       "      <th>139</th>\n",
       "      <td>Malawi</td>\n",
       "      <td>41.490353</td>\n",
       "    </tr>\n",
       "    <tr>\n",
       "      <th>187</th>\n",
       "      <td>Rwanda</td>\n",
       "      <td>41.215647</td>\n",
       "    </tr>\n",
       "    <tr>\n",
       "      <th>194</th>\n",
       "      <td>Sierra Leone</td>\n",
       "      <td>37.696813</td>\n",
       "    </tr>\n",
       "    <tr>\n",
       "      <th>243</th>\n",
       "      <td>Zimbabwe</td>\n",
       "      <td>37.057941</td>\n",
       "    </tr>\n",
       "  </tbody>\n",
       "</table>\n",
       "</div>"
      ],
      "text/plain": [
       "          Country  LE_increase_in_%\n",
       "242        Zambia         44.340909\n",
       "139        Malawi         41.490353\n",
       "187        Rwanda         41.215647\n",
       "194  Sierra Leone         37.696813\n",
       "243      Zimbabwe         37.057941"
      ]
     },
     "execution_count": 23,
     "metadata": {},
     "output_type": "execute_result"
    }
   ],
   "source": [
    "percent_life_increase = []\n",
    "Q5 = dataset.drop(['Female_LE','Male_LE'],axis=1)\n",
    "\n",
    "for country, year in Q5.groupby(level=0):\n",
    "    yr_min = 2000\n",
    "    yr_max = 2018\n",
    "    age1 = 0\n",
    "    age2 = 0\n",
    "    while True:\n",
    "        if np.isnan(Q5.loc[(country,str(yr_max)), 'Combined_LE']):\n",
    "            yr_max -= 1\n",
    "        else:\n",
    "            age2 = Q5.loc[(country,str(yr_max)), 'Combined_LE']\n",
    "            break\n",
    "            \n",
    "    while True:\n",
    "        if np.isnan(Q5.loc[(country,str(yr_min)), 'Combined_LE']):\n",
    "            yr_min += 1\n",
    "        else:\n",
    "            age1 = Q5.loc[(country,str(yr_min)), 'Combined_LE']\n",
    "            break\n",
    "    if age1 >= age2:\n",
    "        continue\n",
    "    else:\n",
    "        percent = ((age2-age1)/age1)*100\n",
    "        percent_life_increase.append([country, percent])\n",
    "        \n",
    "        \n",
    "percent_life_increase = pd.DataFrame(percent_life_increase)\n",
    "percent_life_increase = percent_life_increase.sort_values(by=[1], ascending=False)\n",
    "percent_life_increase = percent_life_increase.rename(columns={0:'Country',1:'LE_increase_in_%'})\n",
    "percent_life_increase.head(5)"
   ]
  },
  {
   "cell_type": "markdown",
   "metadata": {},
   "source": [
    "### Part 3: Analysis"
   ]
  },
  {
   "cell_type": "markdown",
   "metadata": {},
   "source": [
    "Question: What is the relationship between total life expectancy in a country, and the\n",
    "difference between its male & female life expectancies? \n",
    "\n",
    "Give one possible\n",
    "explanation for the relationship."
   ]
  },
  {
   "cell_type": "markdown",
   "metadata": {},
   "source": [
    "In order to visualize the data, I first create a dataset using the results of the questions above. I then use a scatter plot to analyze the result."
   ]
  },
  {
   "cell_type": "code",
   "execution_count": null,
   "metadata": {},
   "outputs": [],
   "source": [
    "P3 = dataset.drop(['Female_LE','Male_LE'],axis=1)\n",
    "P3 = P3.merge(M_F_diff, on = 'Country')\n",
    "P3 = P3.sample(1000)\n",
    "plt.scatter(P3.abs_Diff_M_F, P3.Combined_LE)"
   ]
  },
  {
   "cell_type": "code",
   "execution_count": null,
   "metadata": {},
   "outputs": [],
   "source": []
  }
 ],
 "metadata": {
  "kernelspec": {
   "display_name": "Python 3",
   "language": "python",
   "name": "python3"
  },
  "language_info": {
   "codemirror_mode": {
    "name": "ipython",
    "version": 3
   },
   "file_extension": ".py",
   "mimetype": "text/x-python",
   "name": "python",
   "nbconvert_exporter": "python",
   "pygments_lexer": "ipython3",
   "version": "3.8.5"
  }
 },
 "nbformat": 4,
 "nbformat_minor": 4
}
